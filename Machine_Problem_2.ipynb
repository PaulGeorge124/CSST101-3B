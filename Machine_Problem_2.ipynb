{
  "nbformat": 4,
  "nbformat_minor": 0,
  "metadata": {
    "colab": {
      "provenance": [],
      "authorship_tag": "ABX9TyMczybyf+VlzimCZIeot0lW",
      "include_colab_link": true
    },
    "kernelspec": {
      "name": "python3",
      "display_name": "Python 3"
    },
    "language_info": {
      "name": "python"
    }
  },
  "cells": [
    {
      "cell_type": "markdown",
      "metadata": {
        "id": "view-in-github",
        "colab_type": "text"
      },
      "source": [
        "<a href=\"https://colab.research.google.com/github/PaulGeorge124/CSST101-3B/blob/main/Machine_Problem_2.ipynb\" target=\"_parent\"><img src=\"https://colab.research.google.com/assets/colab-badge.svg\" alt=\"Open In Colab\"/></a>"
      ]
    },
    {
      "cell_type": "markdown",
      "source": [
        "# Step 1: Propositional Logic Operations\n",
        "\n",
        "Propositional Logic Functions"
      ],
      "metadata": {
        "id": "qVa25TqEJbOh"
      }
    },
    {
      "cell_type": "code",
      "execution_count": 3,
      "metadata": {
        "id": "GqWzIn2SJZ8C"
      },
      "outputs": [],
      "source": [
        "def and_operation(p: bool, q: bool) -> bool:\n",
        "    \"\"\"Logical conjunction (AND)\"\"\"\n",
        "    return p and q\n",
        "\n",
        "def or_operation(p: bool, q: bool) -> bool:\n",
        "    \"\"\"Logical disjunction (OR)\"\"\"\n",
        "    return p or q\n",
        "\n",
        "def not_operation(p: bool) -> bool:\n",
        "    \"\"\"Logical negation (NOT)\"\"\"\n",
        "    return not p\n",
        "\n",
        "def implies_operation(p: bool, q: bool) -> bool:\n",
        "    \"\"\"Logical implication (IMPLIES)\"\"\"\n",
        "    return not p or q"
      ]
    },
    {
      "cell_type": "markdown",
      "source": [
        "# Step 2: Evaluate Logical Statements\n",
        "\n",
        "Evaluation Function"
      ],
      "metadata": {
        "id": "5aImejItJvwm"
      }
    },
    {
      "cell_type": "code",
      "source": [
        "def evaluate(statement: str, values: dict) -> bool:\n",
        "    \"\"\"Evaluate a logical statement given a dictionary of truth values.\"\"\"\n",
        "    # Replace variables in the statement with their corresponding truth values\n",
        "    for var, val in values.items():\n",
        "        statement = statement.replace(var, str(val))\n",
        "\n",
        "    # Evaluate the logical expression safely using eval\n",
        "    try:\n",
        "        return eval(statement)\n",
        "    except Exception as e:\n",
        "        print(f\"Error evaluating statement: {e}\")\n",
        "        return False"
      ],
      "metadata": {
        "id": "f4oFOwLMJwIG"
      },
      "execution_count": 4,
      "outputs": []
    },
    {
      "cell_type": "code",
      "source": [
        "# Define truth values\n",
        "truth_values = {\n",
        "    'P': True,\n",
        "    'Q': False\n",
        "}\n",
        "\n",
        "# Evaluate a logical expression\n",
        "statement = 'P and Q'  # Example statement\n",
        "result = evaluate(statement, truth_values)\n",
        "print(f\"The result of '{statement}' is: {result}\")"
      ],
      "metadata": {
        "colab": {
          "base_uri": "https://localhost:8080/"
        },
        "id": "z8r7romyJ1pb",
        "outputId": "2213f759-ae6b-41c5-f4f9-e696f14f1d91"
      },
      "execution_count": 5,
      "outputs": [
        {
          "output_type": "stream",
          "name": "stdout",
          "text": [
            "The result of 'P and Q' is: False\n"
          ]
        }
      ]
    },
    {
      "cell_type": "markdown",
      "source": [
        "# Step 3: Extend to Predicate Logic\n",
        "\n",
        "Predicate Logic Functions"
      ],
      "metadata": {
        "id": "Iu3EDBfbJ1fw"
      }
    },
    {
      "cell_type": "code",
      "source": [
        "def for_all(predicate, domain):\n",
        "    \"\"\"Evaluate a predicate for all elements in the domain.\"\"\"\n",
        "    return all(predicate(x) for x in domain)\n",
        "\n",
        "def exists(predicate, domain):\n",
        "    \"\"\"Evaluate a predicate for any element in the domain.\"\"\"\n",
        "    return any(predicate(x) for x in domain)"
      ],
      "metadata": {
        "id": "JpP33Zx9J7oP"
      },
      "execution_count": 6,
      "outputs": []
    },
    {
      "cell_type": "code",
      "source": [
        "# Define a simple predicate\n",
        "def is_even(x):\n",
        "    return x % 2 == 0\n",
        "\n",
        "# Define a domain\n",
        "domain = [1, 2, 3, 4, 5]\n",
        "\n",
        "# Check if all numbers in the domain are even\n",
        "all_even = for_all(is_even, domain)\n",
        "print(f\"All numbers are even: {all_even}\")\n",
        "\n",
        "# Check if there exists an even number in the domain\n",
        "exists_even = exists(is_even, domain)\n",
        "print(f\"There exists an even number: {exists_even}\")"
      ],
      "metadata": {
        "colab": {
          "base_uri": "https://localhost:8080/"
        },
        "id": "x7vIIedAKFaC",
        "outputId": "db33e104-5aea-4f2e-e1d7-b774ddf7884d"
      },
      "execution_count": 7,
      "outputs": [
        {
          "output_type": "stream",
          "name": "stdout",
          "text": [
            "All numbers are even: False\n",
            "There exists an even number: True\n"
          ]
        }
      ]
    },
    {
      "cell_type": "markdown",
      "source": [
        "# Step 4: AI Agent Development"
      ],
      "metadata": {
        "id": "j07i6nupKHcM"
      }
    },
    {
      "cell_type": "code",
      "source": [
        "class SimpleAIAgent:\n",
        "    def __init__(self, condition_a: bool, condition_b: bool):\n",
        "        self.condition_a = condition_a\n",
        "        self.condition_b = condition_b\n",
        "\n",
        "    def decide(self):\n",
        "        \"\"\"Make a decision based on the conditions.\"\"\"\n",
        "        if and_operation(self.condition_a, self.condition_b):\n",
        "            return \"Take Action\"\n",
        "        else:\n",
        "            return \"Do Nothing\"\n",
        "\n",
        "# Example usage\n",
        "agent = SimpleAIAgent(condition_a=True, condition_b=False)\n",
        "decision = agent.decide()\n",
        "print(f\"Agent decision: {decision}\")"
      ],
      "metadata": {
        "colab": {
          "base_uri": "https://localhost:8080/"
        },
        "id": "T1KqZkdnKHsO",
        "outputId": "c72f557f-d5ad-4a83-f227-9e4fa5997bbc"
      },
      "execution_count": 8,
      "outputs": [
        {
          "output_type": "stream",
          "name": "stdout",
          "text": [
            "Agent decision: Do Nothing\n"
          ]
        }
      ]
    }
  ]
}