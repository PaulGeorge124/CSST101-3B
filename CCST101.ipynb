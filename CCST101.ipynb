{
  "nbformat": 4,
  "nbformat_minor": 0,
  "metadata": {
    "colab": {
      "provenance": [],
      "authorship_tag": "ABX9TyN87MJJuUHI0MugzbnHazc7",
      "include_colab_link": true
    },
    "kernelspec": {
      "name": "python3",
      "display_name": "Python 3"
    },
    "language_info": {
      "name": "python"
    }
  },
  "cells": [
    {
      "cell_type": "markdown",
      "metadata": {
        "id": "view-in-github",
        "colab_type": "text"
      },
      "source": [
        "<a href=\"https://colab.research.google.com/github/PaulGeorge124/CSST101-3B/blob/main/CCST101.ipynb\" target=\"_parent\"><img src=\"https://colab.research.google.com/assets/colab-badge.svg\" alt=\"Open In Colab\"/></a>"
      ]
    },
    {
      "cell_type": "markdown",
      "source": [
        "# Exercise 1: Propositional logic in python\n"
      ],
      "metadata": {
        "id": "aoHXeFby5iN5"
      }
    },
    {
      "cell_type": "code",
      "source": [
        "rains = True\n",
        "\n",
        "def ground_wet(rains):\n",
        "    return rains\n",
        "\n",
        "def match_lights(ground_wet):\n",
        "    return not ground_wet\n",
        "\n",
        "if rains:\n",
        "    is_ground_wet = ground_wet(rains)\n",
        "    can_match_light = match_lights(is_ground_wet)\n",
        "\n",
        "    if can_match_light:\n",
        "        print(\"The match will light\")\n",
        "    else:\n",
        "        print(\"The match will not light\")\n",
        "\n"
      ],
      "metadata": {
        "colab": {
          "base_uri": "https://localhost:8080/"
        },
        "id": "sQoTybi5056C",
        "outputId": "73241f73-46ff-4b3f-8f2d-a4337603baf4"
      },
      "execution_count": null,
      "outputs": [
        {
          "output_type": "stream",
          "name": "stdout",
          "text": [
            "The match will not light\n"
          ]
        }
      ]
    },
    {
      "cell_type": "markdown",
      "source": [
        "# Excercise 2: Predicate Logic Representation\n"
      ],
      "metadata": {
        "id": "yxdcljly896f"
      }
    },
    {
      "cell_type": "code",
      "source": [
        "def isHuman(person):\n",
        "  return person == \"Socrates\"\n",
        "\n",
        "def isMortal(person):\n",
        "  if isHuman(person):\n",
        "    return True\n",
        "  else:\n",
        "      return False\n",
        "\n",
        "person = \"Socrates\"\n",
        "\n",
        "if isMortal(person):\n",
        "  print(f\"{person} is mortal\")\n",
        "else:\n",
        "  print(f\"{person} is not mortal\")\n"
      ],
      "metadata": {
        "colab": {
          "base_uri": "https://localhost:8080/"
        },
        "id": "tt7nU9xZ9J37",
        "outputId": "a995be4e-8810-4813-c060-dbe3e37bf472"
      },
      "execution_count": null,
      "outputs": [
        {
          "output_type": "stream",
          "name": "stdout",
          "text": [
            "Socrates is mortal\n"
          ]
        }
      ]
    },
    {
      "cell_type": "markdown",
      "source": [
        "# Excercise 3: Inference Techniques"
      ],
      "metadata": {
        "id": "UkV_VcJP_pkl"
      }
    },
    {
      "cell_type": "code",
      "source": [
        "def modus_ponens(rules, facts):\n",
        "    conclusions = []\n",
        "    for rule in rules:\n",
        "        premise, conclusion = rule\n",
        "        if premise in facts:\n",
        "            conclusions.append(conclusion)\n",
        "    return conclusions\n",
        "\n",
        "rules = [(\"X\", \"Y\")]\n",
        "facts = [\"X\"]\n",
        "\n",
        "\n",
        "conclusions = modus_ponens(rules, facts)\n",
        "print(\"Inferred Conclusions:\", conclusions)"
      ],
      "metadata": {
        "colab": {
          "base_uri": "https://localhost:8080/"
        },
        "id": "WAik4r7c_82J",
        "outputId": "75128852-59dc-48c5-9a26-475be8c5d528"
      },
      "execution_count": null,
      "outputs": [
        {
          "output_type": "stream",
          "name": "stdout",
          "text": [
            "Inferred Conclusions: ['Y']\n"
          ]
        }
      ]
    },
    {
      "cell_type": "markdown",
      "source": [
        "# Excercise 4:"
      ],
      "metadata": {
        "id": "J-eUxdD1D_Ox"
      }
    },
    {
      "cell_type": "code",
      "source": [],
      "metadata": {
        "id": "qCxaIBaTEAse"
      },
      "execution_count": null,
      "outputs": []
    },
    {
      "cell_type": "markdown",
      "source": [
        "# Excercise 5:"
      ],
      "metadata": {
        "id": "lj-vHMuuEHYp"
      }
    },
    {
      "cell_type": "code",
      "source": [
        "def is_greeting(statement):\n",
        "    greetings = [\"Hello\", \"Hi\", \"Hey\"]\n",
        "    return statement.lower() in greetings\n",
        "\n",
        "def respond(statement):\n",
        "    if is_greeting(statement):\n",
        "        return \"Hello, how can I help you today?\"\n",
        "    else:\n",
        "        return \"I am not sure how to respond to that.\"\n",
        "\n",
        "user_input = input(\"User: \")\n",
        "response = respond(user_input)\n",
        "print(f\"Chatbot: {response}\")"
      ],
      "metadata": {
        "colab": {
          "base_uri": "https://localhost:8080/"
        },
        "id": "TdBQfSebEHgB",
        "outputId": "1524cf7b-20a5-4829-d495-ca64f8c5d522"
      },
      "execution_count": null,
      "outputs": [
        {
          "output_type": "stream",
          "name": "stdout",
          "text": [
            "User: Hi\n",
            "Chatbot: I am not sure how to respond to that.\n"
          ]
        }
      ]
    }
  ]
}